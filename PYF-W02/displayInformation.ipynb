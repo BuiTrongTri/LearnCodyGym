{
 "cells": [
  {
   "cell_type": "code",
   "execution_count": 1,
   "id": "d20875dd-ff8f-4400-9d00-a3e9041414ac",
   "metadata": {},
   "outputs": [
    {
     "name": "stdout",
     "output_type": "stream",
     "text": [
      "Bùi Trọng Trí\n",
      "Hà Nội\n"
     ]
    }
   ],
   "source": [
    "print(\"Bùi Trọng Trí\")\n",
    "print(\"Hà Nội\")"
   ]
  },
  {
   "cell_type": "code",
   "execution_count": null,
   "id": "2cee93ed-e9e2-436c-8d39-3e81161dc491",
   "metadata": {},
   "outputs": [],
   "source": []
  }
 ],
 "metadata": {
  "kernelspec": {
   "display_name": "Python 3 (ipykernel)",
   "language": "python",
   "name": "python3"
  },
  "language_info": {
   "codemirror_mode": {
    "name": "ipython",
    "version": 3
   },
   "file_extension": ".py",
   "mimetype": "text/x-python",
   "name": "python",
   "nbconvert_exporter": "python",
   "pygments_lexer": "ipython3",
   "version": "3.12.3"
  }
 },
 "nbformat": 4,
 "nbformat_minor": 5
}
