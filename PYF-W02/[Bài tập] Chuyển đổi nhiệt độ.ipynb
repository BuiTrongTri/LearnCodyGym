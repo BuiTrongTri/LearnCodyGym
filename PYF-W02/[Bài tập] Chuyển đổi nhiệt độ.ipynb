{
 "cells": [
  {
   "cell_type": "code",
   "execution_count": 4,
   "id": "5bfc8fc2-a730-42bb-8412-618f4ce3cfa9",
   "metadata": {},
   "outputs": [
    {
     "name": "stdin",
     "output_type": "stream",
     "text": [
      "Nhập giá trị nhiệt độ (độ C): 32\n"
     ]
    },
    {
     "name": "stdout",
     "output_type": "stream",
     "text": [
      "Giá trị nhiệt độ F là: 89.6\n"
     ]
    }
   ],
   "source": [
    "temp_c = float(input(\"Nhập giá trị nhiệt độ (độ C):\"))\n",
    "temp_f = (temp_c * 1.8) + 32\n",
    "print(\"Giá trị nhiệt độ F là:\", temp_f)"
   ]
  }
 ],
 "metadata": {
  "kernelspec": {
   "display_name": "Python 3 (ipykernel)",
   "language": "python",
   "name": "python3"
  },
  "language_info": {
   "codemirror_mode": {
    "name": "ipython",
    "version": 3
   },
   "file_extension": ".py",
   "mimetype": "text/x-python",
   "name": "python",
   "nbconvert_exporter": "python",
   "pygments_lexer": "ipython3",
   "version": "3.12.3"
  }
 },
 "nbformat": 4,
 "nbformat_minor": 5
}
