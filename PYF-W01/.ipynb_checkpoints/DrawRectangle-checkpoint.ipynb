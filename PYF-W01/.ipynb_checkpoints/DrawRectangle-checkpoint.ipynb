{
 "cells": [
  {
   "cell_type": "code",
   "execution_count": 1,
   "id": "6247ceb9-cd6b-4efb-947c-158e1712afcf",
   "metadata": {},
   "outputs": [],
   "source": [
    "import turtle \n",
    "t = turtle.Turtle()\n",
    " \n",
    "m = 100;\n",
    "n = 150;\n",
    " \n",
    "# vẽ cạnh đầu tiên\n",
    "t.forward(m) # đi thẳng với m đơn vị\n",
    "t.left(90)   # quay một góc 90 độ\n",
    " \n",
    "# vẽ cạnh thứ hai\n",
    "t.forward(n) # đi thẳng với n đơn vị\n",
    "t.left(90)   # quay một góc 90 độ\n",
    " \n",
    "# vẽ cạnh thứ ba\n",
    "t.forward(m) # đi thẳng với m đơn vị\n",
    "t.left(90)   # quay một góc 90 độ\n",
    " \n",
    "# vẽ cạnh thứ tư\n",
    "t.forward(n) # đi thẳng với n đơn vị\n",
    "t.left(90)   # quay một góc 90 độ"
   ]
  },
  {
   "cell_type": "code",
   "execution_count": null,
   "id": "7e325f37-e340-458c-be71-dd04b7115c81",
   "metadata": {},
   "outputs": [],
   "source": []
  }
 ],
 "metadata": {
  "kernelspec": {
   "display_name": "Python 3 (ipykernel)",
   "language": "python",
   "name": "python3"
  },
  "language_info": {
   "codemirror_mode": {
    "name": "ipython",
    "version": 3
   },
   "file_extension": ".py",
   "mimetype": "text/x-python",
   "name": "python",
   "nbconvert_exporter": "python",
   "pygments_lexer": "ipython3",
   "version": "3.12.3"
  }
 },
 "nbformat": 4,
 "nbformat_minor": 5
}
