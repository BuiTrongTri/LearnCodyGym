{
 "cells": [
  {
   "cell_type": "code",
   "execution_count": 12,
   "id": "29e05867-4a9d-44f4-bfbe-81dfb60fd3b7",
   "metadata": {},
   "outputs": [
    {
     "name": "stdout",
     "output_type": "stream",
     "text": [
      "Your expenses: []\n",
      "What do you want to do? -\n",
      "1. Add\n",
      "2. Remove\n"
     ]
    },
    {
     "name": "stdin",
     "output_type": "stream",
     "text": [
      "Select option 1 or 2 (or any other key to exit):  1\n",
      "Item name:  Milk\n",
      "Item cost:  2\n",
      "Date (YYYY-MM-DD):  2024-05-25\n"
     ]
    },
    {
     "name": "stdout",
     "output_type": "stream",
     "text": [
      "Your expenses: [{'name': 'Milk', 'cost': 2.0, 'date': '2024-05-25'}]\n",
      "Your expenses: [{'name': 'Milk', 'cost': 2.0, 'date': '2024-05-25'}]\n",
      "What do you want to do? -\n",
      "1. Add\n",
      "2. Remove\n"
     ]
    },
    {
     "name": "stdin",
     "output_type": "stream",
     "text": [
      "Select option 1 or 2 (or any other key to exit):  1\n",
      "Item name:  Apple\n",
      "Item cost:  0.5\n",
      "Date (YYYY-MM-DD):  2024-05-24\n"
     ]
    },
    {
     "name": "stdout",
     "output_type": "stream",
     "text": [
      "Your expenses: [{'name': 'Milk', 'cost': 2.0, 'date': '2024-05-25'}, {'name': 'Apple', 'cost': 0.5, 'date': '2024-05-24'}]\n",
      "Your expenses: [{'name': 'Milk', 'cost': 2.0, 'date': '2024-05-25'}, {'name': 'Apple', 'cost': 0.5, 'date': '2024-05-24'}]\n",
      "What do you want to do? -\n",
      "1. Add\n",
      "2. Remove\n"
     ]
    },
    {
     "name": "stdin",
     "output_type": "stream",
     "text": [
      "Select option 1 or 2 (or any other key to exit):  2\n",
      "Item name:  Milk\n"
     ]
    },
    {
     "name": "stdout",
     "output_type": "stream",
     "text": [
      "Your expenses: [{'name': 'Apple', 'cost': 0.5, 'date': '2024-05-24'}]\n",
      "Your expenses: [{'name': 'Apple', 'cost': 0.5, 'date': '2024-05-24'}]\n",
      "What do you want to do? -\n",
      "1. Add\n",
      "2. Remove\n"
     ]
    },
    {
     "name": "stdin",
     "output_type": "stream",
     "text": [
      "Select option 1 or 2 (or any other key to exit):  q\n"
     ]
    },
    {
     "name": "stdout",
     "output_type": "stream",
     "text": [
      "Invalid input, exiting the program.\n"
     ]
    }
   ],
   "source": [
    "# Hàm thêm mục chi tiêu vào danh sách\n",
    "def add_item(expenses_list, item):\n",
    "    expenses_list.append(item)\n",
    "\n",
    "# Hàm tìm vị trí của mục chi tiêu trong danh sách\n",
    "def find_index_item(expenses_list, item_name):\n",
    "    result = -1\n",
    "    length = len(expenses_list)\n",
    "    for i in range(length):\n",
    "        if expenses_list[i]['name'] == item_name:\n",
    "            result = i\n",
    "    return result\n",
    "\n",
    "# Hàm xóa mục chi tiêu khỏi danh sách\n",
    "def remove_item(expenses_list, item_name):\n",
    "    index = find_index_item(expenses_list, item_name)\n",
    "    if index > -1:\n",
    "        del expenses_list[index]\n",
    "    else:\n",
    "        print(f\"{item_name} not in list\")\n",
    "\n",
    "# Chương trình chính\n",
    "def main():\n",
    "    expenses = []\n",
    "\n",
    "    while True:\n",
    "        # In ra danh sách chi tiêu hiện tại\n",
    "        print(\"Your expenses:\", expenses)\n",
    "\n",
    "        # In ra các tùy chọn cho người dùng\n",
    "        print(\"What do you want to do? -\\n\"\\\n",
    "              \"1. Add\\n\" \\\n",
    "              \"2. Remove\")\n",
    "\n",
    "        # Lấy tùy chọn từ người dùng\n",
    "        option = input(\"Select option 1 or 2 (or any other key to exit): \")\n",
    "\n",
    "        # Thêm mục chi tiêu mới\n",
    "        if option == '1':\n",
    "            name_input = input(\"Item name: \")\n",
    "            cost_input = float(input(\"Item cost: \"))\n",
    "            date_input = input(\"Date (YYYY-MM-DD): \")\n",
    "            item = {'name': name_input, 'cost': cost_input, 'date': date_input}\n",
    "            add_item(expenses, item)\n",
    "            print(\"Your expenses:\", expenses)\n",
    "        # Xóa mục chi tiêu hiện tại\n",
    "        elif option == '2':\n",
    "            name_input = input(\"Item name: \")\n",
    "            remove_item(expenses, name_input)\n",
    "            print(\"Your expenses:\", expenses)\n",
    "        # Thoát khỏi chương trình nếu nhập sai tùy chọn\n",
    "        else:\n",
    "            print(\"Invalid input, exiting the program.\")\n",
    "            break\n",
    "\n",
    "# Gọi chương trình chính\n",
    "if __name__ == \"__main__\":\n",
    "    main()\n"
   ]
  },
  {
   "cell_type": "code",
   "execution_count": null,
   "id": "4dfd6461-d52a-44d8-baee-e834ceef0c4b",
   "metadata": {},
   "outputs": [],
   "source": []
  }
 ],
 "metadata": {
  "kernelspec": {
   "display_name": "Python 3 (ipykernel)",
   "language": "python",
   "name": "python3"
  },
  "language_info": {
   "codemirror_mode": {
    "name": "ipython",
    "version": 3
   },
   "file_extension": ".py",
   "mimetype": "text/x-python",
   "name": "python",
   "nbconvert_exporter": "python",
   "pygments_lexer": "ipython3",
   "version": "3.12.3"
  }
 },
 "nbformat": 4,
 "nbformat_minor": 5
}
