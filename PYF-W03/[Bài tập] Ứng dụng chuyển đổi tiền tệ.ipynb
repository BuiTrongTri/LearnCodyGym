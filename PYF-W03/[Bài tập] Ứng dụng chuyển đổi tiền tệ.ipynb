{
 "cells": [
  {
   "cell_type": "code",
   "execution_count": 4,
   "id": "a1651b34-213f-4a03-bd65-35a5b45537e7",
   "metadata": {},
   "outputs": [
    {
     "name": "stdin",
     "output_type": "stream",
     "text": [
      "Nhập số tiền USD cần đổi 1000\n",
      "Nhập tỉ giá USD/VND 0.00004347826\n"
     ]
    },
    {
     "name": "stdout",
     "output_type": "stream",
     "text": [
      "23000000.460000012\n"
     ]
    }
   ],
   "source": [
    "USD = float(input(\"Nhập số tiền USD cần đổi\"))\n",
    "ti_gia = float(input(\"Nhập tỉ giá USD/VND\"))\n",
    "\n",
    "VND = USD/ti_gia\n",
    "\n",
    "print(VND)"
   ]
  }
 ],
 "metadata": {
  "kernelspec": {
   "display_name": "Python 3 (ipykernel)",
   "language": "python",
   "name": "python3"
  },
  "language_info": {
   "codemirror_mode": {
    "name": "ipython",
    "version": 3
   },
   "file_extension": ".py",
   "mimetype": "text/x-python",
   "name": "python",
   "nbconvert_exporter": "python",
   "pygments_lexer": "ipython3",
   "version": "3.12.3"
  }
 },
 "nbformat": 4,
 "nbformat_minor": 5
}
