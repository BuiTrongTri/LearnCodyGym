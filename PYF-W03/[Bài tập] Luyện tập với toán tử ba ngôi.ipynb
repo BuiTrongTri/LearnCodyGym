{
 "cells": [
  {
   "cell_type": "code",
   "execution_count": 3,
   "id": "788aa119-240c-4093-a014-cee89a9aa5ec",
   "metadata": {},
   "outputs": [
    {
     "name": "stdin",
     "output_type": "stream",
     "text": [
      "Nhập vào một số nguyên bất kỳ:  5\n"
     ]
    },
    {
     "name": "stdout",
     "output_type": "stream",
     "text": [
      "odd\n"
     ]
    }
   ],
   "source": [
    "number = int(input(\"Nhập vào một số nguyên bất kỳ: \"))\n",
    "\n",
    "result = \"even\" if number % 2 == 0 else \"odd\"\n",
    "\n",
    "print(result)"
   ]
  }
 ],
 "metadata": {
  "kernelspec": {
   "display_name": "Python 3 (ipykernel)",
   "language": "python",
   "name": "python3"
  },
  "language_info": {
   "codemirror_mode": {
    "name": "ipython",
    "version": 3
   },
   "file_extension": ".py",
   "mimetype": "text/x-python",
   "name": "python",
   "nbconvert_exporter": "python",
   "pygments_lexer": "ipython3",
   "version": "3.12.3"
  }
 },
 "nbformat": 4,
 "nbformat_minor": 5
}
