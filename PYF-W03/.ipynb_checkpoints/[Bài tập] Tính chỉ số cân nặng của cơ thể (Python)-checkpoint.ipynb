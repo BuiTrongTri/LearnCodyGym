{
 "cells": [
  {
   "cell_type": "code",
   "execution_count": 1,
   "id": "606bf001-cce7-4e7a-92d7-7e8c4222d99f",
   "metadata": {},
   "outputs": [
    {
     "name": "stdin",
     "output_type": "stream",
     "text": [
      "Enter weight (kg) =  70\n",
      "Enter height (cm) =  170\n"
     ]
    },
    {
     "name": "stdout",
     "output_type": "stream",
     "text": [
      "Bình thường\n"
     ]
    }
   ],
   "source": [
    "weight = float(input(\"Enter weight (kg) = \"))\n",
    "height_cm = float(input(\"Enter height (cm) = \"))\n",
    "height_m = height_cm/100 #Đổi chiều cao từ cm sang m\n",
    "\n",
    "BMI = weight / (height_m**2)\n",
    "\n",
    "if BMI < 16:\n",
    "    print(\"Gầy cấp độ III\")\n",
    "elif 16 <= BMI < 17:\n",
    "    print(\"Gầy cấp độ II\")\n",
    "elif 17 <= BMI < 18.5:\n",
    "    print(\"Gầy cấp độ I\")\n",
    "elif 18.5 <= BMI < 25:\n",
    "    print(\"Bình thường\")\n",
    "elif 25 <= BMI < 30:\n",
    "    print(\"Béo phì cấp độ I\")\n",
    "elif 30 <= BMI < 35:\n",
    "    print(\"Béo phì cấp độ I\")\n",
    "elif 35 <= BMI < 40:\n",
    "    print(\"Béo phì cấp độ II\")\n",
    "else:\n",
    "    print(\"Béo phì cấp độ III\")"
   ]
  }
 ],
 "metadata": {
  "kernelspec": {
   "display_name": "Python 3 (ipykernel)",
   "language": "python",
   "name": "python3"
  },
  "language_info": {
   "codemirror_mode": {
    "name": "ipython",
    "version": 3
   },
   "file_extension": ".py",
   "mimetype": "text/x-python",
   "name": "python",
   "nbconvert_exporter": "python",
   "pygments_lexer": "ipython3",
   "version": "3.12.3"
  }
 },
 "nbformat": 4,
 "nbformat_minor": 5
}
