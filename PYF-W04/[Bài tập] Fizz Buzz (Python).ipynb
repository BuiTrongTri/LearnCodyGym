{
 "cells": [
  {
   "cell_type": "code",
   "execution_count": 1,
   "id": "35990844-82c6-4ebb-8a3f-5f01e416e074",
   "metadata": {},
   "outputs": [
    {
     "name": "stdin",
     "output_type": "stream",
     "text": [
      "Nhập số bắt đầu và số kết thúc, cách nhau bởi dấu cách:  10 20\n"
     ]
    },
    {
     "name": "stdout",
     "output_type": "stream",
     "text": [
      "Buzz\n",
      "11\n",
      "Fizz\n",
      "13\n",
      "14\n",
      "FizzBuzz\n",
      "16\n",
      "17\n",
      "Fizz\n",
      "19\n",
      "Buzz\n"
     ]
    }
   ],
   "source": [
    "start, end = input(\"Nhập số bắt đầu và số kết thúc, cách nhau bởi dấu cách: \").split()\n",
    "start = int(start)\n",
    "end = int(end)\n",
    "\n",
    "if end < start:\n",
    "    print(\"Số kết thúc cần lớn hơn số bắt đầu\")\n",
    "else:\n",
    "    for number in range(start, end + 1):\n",
    "        if number % 3 == 0 and number % 5 == 0:\n",
    "            print(\"FizzBuzz\")\n",
    "        elif number % 3 == 0:\n",
    "            print(\"Fizz\")\n",
    "        elif number % 5 == 0:\n",
    "            print(\"Buzz\")\n",
    "        else:\n",
    "            print(number)"
   ]
  }
 ],
 "metadata": {
  "kernelspec": {
   "display_name": "Python 3 (ipykernel)",
   "language": "python",
   "name": "python3"
  },
  "language_info": {
   "codemirror_mode": {
    "name": "ipython",
    "version": 3
   },
   "file_extension": ".py",
   "mimetype": "text/x-python",
   "name": "python",
   "nbconvert_exporter": "python",
   "pygments_lexer": "ipython3",
   "version": "3.12.3"
  }
 },
 "nbformat": 4,
 "nbformat_minor": 5
}
